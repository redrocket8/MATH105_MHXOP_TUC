{
  "nbformat": 4,
  "nbformat_minor": 0,
  "metadata": {
    "colab": {
      "provenance": [],
      "authorship_tag": "ABX9TyNsJn7uExkVIhHduFlcpBMy",
      "include_colab_link": true
    },
    "kernelspec": {
      "name": "python3",
      "display_name": "Python 3"
    },
    "language_info": {
      "name": "python"
    }
  },
  "cells": [
    {
      "cell_type": "markdown",
      "metadata": {
        "id": "view-in-github",
        "colab_type": "text"
      },
      "source": [
        "<a href=\"https://colab.research.google.com/github/redrocket8/MATH105_MHXOP_TUC/blob/main/MATH_105_Lab8.ipynb\" target=\"_parent\"><img src=\"https://colab.research.google.com/assets/colab-badge.svg\" alt=\"Open In Colab\"/></a>"
      ]
    },
    {
      "cell_type": "markdown",
      "source": [
        "# ΜΑΘ105-Εργαστήριο 8\n",
        "Προσπέλαση και δημιουργία αρχείων στην Python (Επαναληπτικές ασκήσεις)"
      ],
      "metadata": {
        "id": "PV-dxPZsaRix"
      }
    },
    {
      "cell_type": "markdown",
      "source": [
        "### $\\color{red}{\\textbf{Άσκηση1}}$: Μετατροπή συντεταγμένων\n",
        "Σας δίνεται το αρχείο **`test1.txt`**, (*κατεβάστε το από το eclass στον φακελο εργασίας του εργαστηρίου μας*) το οποίο περιέχει συντεταγμένες από μία έρευνα για ένα κοίτασμα πετρελαίου. Οι συντεταγμένες είναι σε μορφή παρενθέσεων όπως φαίνεται στην παρακάτω εικόνα.\n",
        "\n",
        "<img src=\"https://github.com/redrocket8/MATH105_MHXOP_TUC/raw/main/test1.jpg\" width=\"400\">\n",
        "\n",
        "\n",
        "\n",
        "\n",
        "\n",
        "\n",
        "Στόχος είναι να δημιουργήσετε ένα νέο αρχείο με το όνομα **`output1.csv`** το οποίο να έχει τις συντεταγμένες σε μορφή που να είναι κατάλληλη για χρήση στο [Google maps](https://www.google.com/maps/d/u/0/), όπως φαίνεται στην παρακάτω εικόνα.\n",
        "\n",
        "<img src=\"https://github.com/redrocket8/MATH105_MHXOP_TUC/raw/main/output1.png\" width=\"500\">\n",
        "\n",
        "\n",
        "Για να το επιτύχετε αυτό, θα πρέπει να δημιουργήσετε ένα πρόγραμμα σε Python με την ονομασία **code81.py** που θα διαβάζει το αρχείο **`test1.txt`**, θα μετατρέπει τις συντεταγμένες και θα τις αποθηκεύει στο νέο αρχείο **`output1.csv`**\n"
      ],
      "metadata": {
        "id": "KWGY-zp_Lv6_"
      }
    },
    {
      "cell_type": "markdown",
      "source": [
        "### $\\color{red}{\\textbf{Άσκηση2}}$: Μετατροπή του κώδικα της Άσκησης 1 σε συνάρτηση.\n",
        "\n",
        "(*αρχικά κατεβάστε το αρχείο **text2.txt** από το eclass στον φακελο εργασίας του εργαστηρίου μας*)\n",
        "\n",
        "Γράψτε ένα κώδικα σε Python με την ονομασία **code82.py** με τον οποίο:\n",
        "*    Δημιουργείτε μια συνάρτηση με το όνομα **convert_coordinates** η οποία δέχεται ως είσοδο το όνομα του εισαγόμενου αρχείου και το όνομα του εξαγόμενου αρχείου. Η συνάρτηση θα πρέπει να διαβάζει το αρχείο, να μετατρέπει τις συντεταγμένες και να τις αποθηκεύει στο νέο αρχείο.\n",
        "\n",
        "*   Καλείτε την συνάρτηση με ορίσματα εισόδου\n",
        "    **text2.txt** και **output2.csv**\n",
        "\n",
        "Στην συνέχεια ανεβάστε το αρχείο output2.csv στο [Google maps](https://www.google.com/maps/d/u/0/) για να δείτε τα σημεία στον χάρτη."
      ],
      "metadata": {
        "id": "ZMYnxZ42rAAS"
      }
    }
  ]
}