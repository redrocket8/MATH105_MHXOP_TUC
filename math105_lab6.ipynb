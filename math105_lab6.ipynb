{
  "nbformat": 4,
  "nbformat_minor": 0,
  "metadata": {
    "colab": {
      "provenance": [],
      "include_colab_link": true
    },
    "kernelspec": {
      "name": "python3",
      "display_name": "Python 3"
    },
    "language_info": {
      "name": "python"
    }
  },
  "cells": [
    {
      "cell_type": "markdown",
      "metadata": {
        "id": "view-in-github",
        "colab_type": "text"
      },
      "source": [
        "<a href=\"https://colab.research.google.com/github/redrocket8/MATH105_MHXOP_TUC/blob/main/math105_lab6.ipynb\" target=\"_parent\"><img src=\"https://colab.research.google.com/assets/colab-badge.svg\" alt=\"Open In Colab\"/></a>"
      ]
    },
    {
      "cell_type": "markdown",
      "source": [
        "<a target=\"_blank\" href=\"https://colab.research.google.com/github/redrocket8/MATH105_MHXOP_TUC/blob/bad1d0a84c377ff78057eb4db6c55e0bdbf631c1/MATH105_Lab6.ipynb\">\n",
        "  <img src=\"https://colab.research.google.com/assets/colab-badge.svg\" alt=\"Open In Colab\"/>"
      ],
      "metadata": {
        "id": "jwcSHl1DfkXv"
      }
    },
    {
      "cell_type": "markdown",
      "source": [
        "# Δημιουργία και προσπέλαση αρχείων στην Python\n",
        "\n",
        "## Εισαγωγή\n",
        "\n",
        "Η δημιουργία και η προσπέλαση αρχείων είναι κρίσιμες λειτουργίες στον προγραμματισμό, που επιτρέπουν στους προγραμματιστές να αποθηκεύουν και να ανακτούν δεδομένα από εξωτερικά αρχεία. Στη γλώσσα προγραμματισμού Python, η διαχείριση αρχείων γίνεται με τη χρήση της συνάρτησης `open()`.\n",
        "\n",
        "Κατά το άνοιγμα ενός αρχείου, προσδιορίζουμε το όνομά του και τον τρόπο ανοίγματος, που καθορίζει εάν θα διαβάζουμε ('r'), θα γράφουμε ('w'), ή θα προσθέτουμε περιεχόμενο ('a'). Είναι σημαντικό να κλείνουμε το αρχείο μετά τη χρήση, χρησιμοποιώντας τη μέθοδο `close()`.\n",
        "\n",
        "Για την ανάγνωση των περιεχομένων ενός αρχείου, χρησιμοποιούμε μεθόδους όπως `read()`, `readline()` ή `readlines()`. Η εγγραφή σε ένα αρχείο γίνεται με τη μέθοδο `write()`.\n",
        "\n",
        "Στην Python, η διαχείριση αρχείων μας παρέχει την ευελιξία να διαχειριζόμαστε δεδομένα σε μια ποικιλία μορφών, πετυχαίνοντας την αποτελεσματική αποθήκευση και ανάκτηση πληροφοριών από αρχεία.\n",
        "\n",
        "### Άνοιγμα αρχείου\n",
        "\n",
        "```python\n",
        "open('filename', 'mode')\n",
        "```\n",
        "`'filename'`: Το όνομα του αρχείου που θέλουμε να ανοίξουμε.\n",
        "\n",
        "`'mode'`: Καθορίζει τον τρόπο προσπέλασης του αρχείου.\n",
        "'r' Ανοίγει ένα αρχείο κειμένου για ανάγνωση (read),\n",
        "        'w' Ανοίγει ένα αρχείο κειμένου για γράψιμο (write). Αν το αρχείο υπάρχει τα περιεχομενά του διαγράφονται.\n",
        "        'a' Ανοίγει ένα αρχείο κειμένου για προσθήκη (append), δηλαδή προσθέτει τα νέα δεδομένα στο τέλος του αρχείου. Αν το αρχείο δεν υπάρχει το δημιουργεί\n",
        "\n",
        "*   `'filename'`: Το όνομα του αρχείου που θέλουμε να ανοίξουμε.\n",
        "*   `'mode'`: Καθορίζει τον τρόπο προσπέλασης του αρχείου.\n",
        "    * `'r'` Ανοίγει ένα αρχείο κειμένου για ανάγνωση (read),\n",
        "    * `'w'` Ανοίγει ένα αρχείο κειμένου για γράψιμο (write). Αν το αρχείο υπάρχει τα περιεχομενά του διαγράφονται.\n",
        "    * `'a'` Ανοίγει ένα αρχείο κειμένου για προσθήκη (append), δηλαδή προσθέτει τα νέα δεδομένα στο τέλος του αρχείου. Αν το αρχείο δεν υπάρχει το δημιουργεί\n",
        "\n",
        "\n",
        "\n",
        "\n",
        "\n",
        "### Παράδειγμα 1ο:\n",
        "```python\n",
        "file_name = 'example.txt'\n",
        "file = open(file_name, 'r')  # Opens 'example.txt' in read mode.\n",
        "\n",
        "# Always remember to close the file after use.\n",
        "file.close()\n"
      ],
      "metadata": {
        "id": "C9lPrO6I6FM3"
      }
    },
    {
      "cell_type": "code",
      "source": [
        "file_name = 'example.txt'\n",
        "file = open(file_name, 'r')  # Opens 'example.txt' in read mode.\n",
        "\n",
        "# Always remember to close the file after use.\n",
        "file.close()"
      ],
      "metadata": {
        "id": "lLBQx5GfWN-X"
      },
      "execution_count": null,
      "outputs": []
    }
  ]
}