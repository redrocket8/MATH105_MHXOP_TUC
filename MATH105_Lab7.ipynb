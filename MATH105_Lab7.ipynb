{
  "nbformat": 4,
  "nbformat_minor": 0,
  "metadata": {
    "colab": {
      "provenance": [],
      "include_colab_link": true
    },
    "kernelspec": {
      "name": "python3",
      "display_name": "Python 3"
    },
    "language_info": {
      "name": "python"
    }
  },
  "cells": [
    {
      "cell_type": "markdown",
      "metadata": {
        "id": "view-in-github",
        "colab_type": "text"
      },
      "source": [
        "<a href=\"https://colab.research.google.com/github/redrocket8/MATH105_MHXOP_TUC/blob/main/MATH105_Lab7.ipynb\" target=\"_parent\"><img src=\"https://colab.research.google.com/assets/colab-badge.svg\" alt=\"Open In Colab\"/></a>"
      ]
    },
    {
      "cell_type": "markdown",
      "source": [
        "# ΜΑΘ105-Εργαστήριο 7\n",
        "#**Λεξικά στην Python**\n",
        "\n",
        "## **Εισαγωγή**\n",
        "Στο παρών εργαστήριο θα ασχοληθούμε με τα λεξικά (***dictionaries***) της Python. Ένα λεξικό στην Python  είναι μία δομή δεδομένων η οποία αποθηκεύει ζευγάρια της μορφής **key:value**. Τα κλειδιά θα πρέπει να είναι μοναδικά (μέσα σε ένα λεξικό). Σε αντίθεση με τις λίστες, στις οποίες η αναζήτηση γίνεται με βάση κάποιον ακέραιο δείκτη που δείχνει σε συγκεκριμένη θέση μέσα στην λίστα, στα λεξικά η αναζήτηση-αναφορά γίνεται με βάση κάποιο κλειδί.\n",
        "\n",
        "Ένα κλειδί (**key**) μπορεί να είναι:\n",
        "\n",
        "\n",
        "*   αριθμός\n",
        "*   αλφαριθμητικό\n",
        "*   πλειάδα (με αριθμούς και αλφαριθμητικά)\n",
        "\n",
        "η δε τιμή (**value**) μπορεί να είναι οποιουδήποτε τύπου.\n",
        "\n",
        "Έτσι, έχουμε ζευγάρια της μορφής (string,[]), ( tuple, string) , (int,[]) κ.α."
      ],
      "metadata": {
        "id": "VIx34JqP6O-O"
      }
    },
    {
      "cell_type": "markdown",
      "source": [
        "#**Δημιουργία ενός λεξικού**\n",
        "## $\\color{green}{\\text{Παράδειγμα 1ο}}$:\n",
        "Για να δημιουργήσουμε ένα κενό λεξικό μπορούμε να χρησιμοποιούμε ένα ζευγάρι κενών άγκιστρων\n",
        "`{}` ή την μέθοδο `dict()`"
      ],
      "metadata": {
        "id": "wF2gh4JuAjOS"
      }
    },
    {
      "cell_type": "code",
      "execution_count": null,
      "metadata": {
        "id": "9xHooqA-5w9H"
      },
      "outputs": [],
      "source": [
        "person = {} # create an empty dictionary\n",
        "car = dict() # create an empty dictionary using the dict constructor"
      ]
    },
    {
      "cell_type": "markdown",
      "source": [
        "Στην συνέχεια χρησιμοποιούμε το όνομα του λεξικού ακολουθούμενο από τετράγωνες αγκύλες για να προσθέσουμε ζευγάρια δεδομένων ή για να τροποποιήσουμε την τιμή (value) ενός κλειδιού ως εξής:"
      ],
      "metadata": {
        "id": "yb13PwALM82H"
      }
    },
    {
      "cell_type": "code",
      "source": [
        "person[\"name\"] = \"George\"\n",
        "person[\"age\"]= 35\n",
        "print(person) # εκτύπωση του λεξικού\n",
        "person[\"age\"]=40 # αλλαγή της τιμής που αντιστοιχεί στο κλειδί \"age\" από 35 σε 40\n",
        "print(person) # εκτύπωση του λεξικού"
      ],
      "metadata": {
        "id": "ogfzJjQLNLUr"
      },
      "execution_count": null,
      "outputs": []
    },
    {
      "cell_type": "markdown",
      "source": [
        "Όπου τα αλφαριθμητικά `\"name\"` και `\"age\"` αποτελούν τα κλειδιά και τα `\"George\"`, `35` τις συσχετιζόμενες τιμές τους. Προφανώς, η σειρά καταχώρισης δεν παίζει κανένα ρόλο.\n",
        "\n",
        "Επειδή δεν υπάρχουν συγκεκριμένες θέσεις σε αντίθεση με τις λίστες, αντί για αριθμητική δεικτοδότηση χρησιμοποιούμε το κλειδί για τον εντοπισμό της τιμής."
      ],
      "metadata": {
        "id": "BnTgqj5ZOJil"
      }
    },
    {
      "cell_type": "code",
      "source": [
        "person[\"name\"]"
      ],
      "metadata": {
        "id": "WaaYa52BQOAC"
      },
      "execution_count": null,
      "outputs": []
    },
    {
      "cell_type": "markdown",
      "source": [
        "Τι θα γίνει στην περίπτωση που χρησιμοποιήσουμε ανύπαρκτο κλειδί;"
      ],
      "metadata": {
        "id": "-PJ--fv6QmWF"
      }
    },
    {
      "cell_type": "code",
      "source": [
        "person[\"email\"]"
      ],
      "metadata": {
        "id": "GtkXzdRwRBoZ"
      },
      "execution_count": null,
      "outputs": []
    },
    {
      "cell_type": "markdown",
      "source": [
        "Εάν θέλουμε να επιστρέψουμε μία λίστα η οποία περιέχει τα κλειδιά ενός λεξικού <u> με την σειρά που έχουν καταχωρηθεί</u> τότε μπορούμε να εφαρμόσουμε την συνάρτηση `list()` στο λεξικό, ενώ έαν θέλουμε να επιστρέψουμε τα κλειδιά του λεξικού <u>ταξινομημένα</u>  μπορούμε να χρησιμοποιήσουμε τη συνάρτηση `sorted()`."
      ],
      "metadata": {
        "id": "zBC_42tNdjmP"
      }
    },
    {
      "cell_type": "code",
      "source": [
        "print(list(person))\n",
        "print(sorted(person))"
      ],
      "metadata": {
        "id": "XZ-593CneKtL"
      },
      "execution_count": null,
      "outputs": []
    },
    {
      "cell_type": "markdown",
      "source": [
        "## $\\color{green}{\\text{Παράδειγμα 2ο}}$:\n",
        "Εναλλακτικά, μπορούμε να ορίσουμε ένα λεξικό χρησιμοποιώντας την άνω και κάτω τελεία για το διαχωρισμό κλειδιών και τιμών και κόμμα μεταξύ των στοιχείων.\n",
        "Στο παρακάτω παράδειγμα δημιουργούμε δύο λεξικά με ονόματα **person** και **car**. *Προσέξτε ότι κάθε στοιχείο του λεξικού είναι ένα ζεύγος **key:value** και ότι τα στοιχεία διαχωριζονται με `,`*"
      ],
      "metadata": {
        "id": "w2Gc0tOqHpkk"
      }
    },
    {
      "cell_type": "code",
      "source": [
        "# code_71.py\n",
        "person={\"name\": \"George\",\n",
        "        \"age\": 35,\n",
        "        \"city\": \"Chania\",\n",
        "        \"email\": \"george@gmail.com\"}\n",
        "\n",
        "car={\"brand\": \"Suzuki\",\n",
        "     \"model\": \"Swift turbo GT\",\n",
        "     \"year\": 2007,\n",
        "     \"horsepower cc\": 2000,\n",
        "     \"miles\":450000}\n",
        "\n",
        "print(person)\n",
        "print(car)"
      ],
      "metadata": {
        "id": "T-GdFEMtJVWr"
      },
      "execution_count": null,
      "outputs": []
    },
    {
      "cell_type": "markdown",
      "source": [
        "#**Dictionary methods**\n",
        "Κάθε λεξικό είναι εφοδιασμένο με τις παρακάτω build-in μεθόδους:\n",
        " *   **`.keys()`** Επιστρέφει μία λίστα με με τα ονόματα των κλειδιών του λεξικού."
      ],
      "metadata": {
        "id": "kNyOUpKWhACi"
      }
    },
    {
      "cell_type": "code",
      "source": [
        "person.keys()"
      ],
      "metadata": {
        "id": "8y6fXcEYjZHC"
      },
      "execution_count": null,
      "outputs": []
    },
    {
      "cell_type": "markdown",
      "source": [
        "*   **`.values()`** Επιστρέφει μία λίστα με όλες τις τιμές του λεξικού."
      ],
      "metadata": {
        "id": "0Ozu11HnjnK8"
      }
    },
    {
      "cell_type": "code",
      "source": [
        "person.values()"
      ],
      "metadata": {
        "id": "PwA3qSq8jrWJ"
      },
      "execution_count": null,
      "outputs": []
    },
    {
      "cell_type": "markdown",
      "source": [
        "*   **`.items()`** Επιστρέφει μία λίστα με πλειάδες ( **tuples** ) ζευγαριών στη μορφή (key, value).  "
      ],
      "metadata": {
        "id": "uALvEgm6jq0j"
      }
    },
    {
      "cell_type": "code",
      "source": [
        "person.items()"
      ],
      "metadata": {
        "id": "7Hi6XQ1DjyCa"
      },
      "execution_count": null,
      "outputs": []
    },
    {
      "cell_type": "markdown",
      "source": [
        "*   **`.get(key)`** Επιστρέφει το στοιχείο με κλειδί **key**. Αν δεν υπάρχει το συγκεκριμένο κλειδί η προκαθορισμένη τιμή επιστροφής είναι *None*. Εάν θέλουμε να αλλάξουμε την προκαθορισμένη τιμή επιστροφής τότε η κλίση της μεθόδου γίνεται **`.get(key,d)`**."
      ],
      "metadata": {
        "id": "8mEtSRZkkYYk"
      }
    },
    {
      "cell_type": "code",
      "source": [
        "print( car.get(\"brand\") ) #εναλλακτικά θα μπορούσαμε να γράψουμε car[\"brand\"]\n",
        "print( car.get(\"color\") )\n",
        "print( car.get(\"color\", \"There is no key with name color in the dictionary car\"))"
      ],
      "metadata": {
        "id": "yx0HgHQwkuLS"
      },
      "execution_count": null,
      "outputs": []
    },
    {
      "cell_type": "markdown",
      "source": [
        "*   **`.update()`** Χρησιμοποιείται για να ενημερώσει το λεξικό με τα στοιχεία ενός άλλου λεξικού ή με ζεύγη κλειδιού-τιμής. Αν υπάρχουν ήδη κλειδιά που υπάρχουν στο αρχικό λεξικό, οι αντίστοιχες τιμές ενημερώνονται με τις τιμές από το άλλο λεξικό. Εάν τα κλειδιά δεν υπάρχουν, προστίθενται στο αρχικό λεξικό."
      ],
      "metadata": {
        "id": "3JMgI_mmqgz0"
      }
    },
    {
      "cell_type": "code",
      "source": [
        "# Αρχικό λεξικό\n",
        "car={\"brand\": \"Suzuki\",\n",
        "     \"model\": \"Swift turbo GT\",\n",
        "     \"year\": 2007,\n",
        "     \"horsepower cc\": 2000,\n",
        "     \"miles\":450000}\n",
        "print(car)\n",
        "# Ενημέρωση με νέα στοιχεία\n",
        "new_info={\"color\": \"red\", \"miles\":480000, \"plates\": \"MHXOP2023\"}\n",
        "car.update(new_info)\n",
        "print(car)"
      ],
      "metadata": {
        "id": "o16fGRqnrPTL"
      },
      "execution_count": null,
      "outputs": []
    },
    {
      "cell_type": "markdown",
      "source": [
        "*   **`.pop(key)`** Xρησιμοποιείται για την αφαίρεση ενός στοιχείου δηλαδή (key-value) με βάση το κλειδί που καθορίζεται ως όρισμα. Η μέθοδος επιστρέφει την τιμή που σχετίζεται με το κλειδί που δόθηκε, και ταυτόχρονα το στοιχείο αφαιρείται από το λεξικό. Αν δεν υπάρχει το συγκεκριμένο κλειδί τότε θα μας επιστρέψει σφάλμα, για αυτόν τον λόγο μπορούμε να χρησιμοποιήσουμε `.pop(key,d)`."
      ],
      "metadata": {
        "id": "PMviwJbQwx0-"
      }
    },
    {
      "cell_type": "code",
      "source": [
        "car.pop(\"color\")\n",
        "print(car)\n"
      ],
      "metadata": {
        "id": "sPqffh30xY0z"
      },
      "execution_count": null,
      "outputs": []
    },
    {
      "cell_type": "code",
      "source": [
        "car.pop(\"weight\",\"Can't remove key 'weight' because it does not exist\")"
      ],
      "metadata": {
        "id": "rcUmBLEYzkO_"
      },
      "execution_count": null,
      "outputs": []
    },
    {
      "cell_type": "markdown",
      "source": [
        "${\\color{red}{Σημείωση:}}$ Εναλλακτικά θα μπορούμε να αφαιρέσουμε το στοιχείο με το κλειδί \"*color*\" γραφοντας `del car[\"color\"]`. Πρέπει όμως να είμαστε σίγουροι ότι το κλειδί υπάρχει, αλλιώς θα έχουμε error."
      ],
      "metadata": {
        "id": "ZRXDeorG2mw2"
      }
    },
    {
      "cell_type": "markdown",
      "source": [
        "*   **`.clear()`** Χρησιμοποιείται για να αφαιρέσει όλα τα στοιχεία από το λεξικό, καθιστώντας το άδειο, διατηρώντας ωστόσο την δομή του. Εάν θέλουμε να διαγράψουμε πλήρως το λεξικό απο την μνήμη τότε πρέπει να γράψουμε `del ` κενό και μετά το όνομα του λεξικού. Για παράδειγμα `del car`"
      ],
      "metadata": {
        "id": "a2xz2f9Y0ccx"
      }
    },
    {
      "cell_type": "code",
      "source": [
        "car.clear()\n",
        "print(car)"
      ],
      "metadata": {
        "id": "JyOAkliK0zKL"
      },
      "execution_count": null,
      "outputs": []
    },
    {
      "cell_type": "markdown",
      "source": [
        "# **Προσπέλαση των στοιχείων ενός λεξικού**\n",
        "Η προσπέλαση στα επιμέρους στοιχεία ενός λεξικού γίνεται με έναν βρόχο **for** και τη μέθοδο **`.keys()`**."
      ],
      "metadata": {
        "id": "BtHhkjDx4hli"
      }
    },
    {
      "cell_type": "code",
      "source": [
        "for key in person.keys():\n",
        "    print(key,\"==>\",person[key])"
      ],
      "metadata": {
        "id": "XyIt0pif5SId"
      },
      "execution_count": null,
      "outputs": []
    },
    {
      "cell_type": "markdown",
      "source": [
        "Εναλλακτικά θα μπορούσαμε να χρησιμοποιήσουμε την μέθοδο **`.items()`**η οποία όπως είδαμε μας επιστρέφει μία πλειάδα (tuple):"
      ],
      "metadata": {
        "id": "51b-ZlMJ5Rwd"
      }
    },
    {
      "cell_type": "code",
      "source": [
        "for item in person.items():\n",
        "    print(item[0],item[1])"
      ],
      "metadata": {
        "id": "0kRmzqW36ZV-"
      },
      "execution_count": null,
      "outputs": []
    },
    {
      "cell_type": "markdown",
      "source": [
        "Για να ελέγξουμε έαν κάποιo κλειδί ή τιμή βρίσκεται στο λεξικό τότε μπορούμε να χρησιμοποιήσουμε τον τελεστή **in** κατα τα γνωστά:"
      ],
      "metadata": {
        "id": "67Q-A9wO65NK"
      }
    },
    {
      "cell_type": "code",
      "source": [
        "phone_catalog={\"George\":1234,\"Nikos\":1235,\"Maria\":3452,\"Alkiviadis\":5678}\n",
        "\n",
        "print( \"George\" in phone_catalog.keys() ) # Έλεγχος για το εάν υπάρχει το όνομα \"George\" στον κατάλογο\n",
        "print( \"Lefteris\" in phone_catalog.keys() ) # Έλεγχος για το εάν υπάρχει το όνομα \"Lefteris\" στον κατάλογο\n",
        "print( 1235 in phone_catalog.values() ) # Έλεγχος για το εάν υπάρχει η τιμή 1235 στον κατάλογο\n"
      ],
      "metadata": {
        "id": "ZTtEuziz7JD3"
      },
      "execution_count": null,
      "outputs": []
    },
    {
      "cell_type": "markdown",
      "source": [
        "### $\\color{blue}{\\textbf{Άσκηση}}$: Δημιουργία βιβλίου επαφών.\n",
        "Συμπληρώστε τον κώδικα στα παρακάτω κελιά σύμφωνα με τις οδηγίες που σας δίνονται στα σχόλια."
      ],
      "metadata": {
        "id": "7REQma57DW_a"
      }
    },
    {
      "cell_type": "markdown",
      "source": [
        "**Δημιουργία Κενού Βιβλίου Επαφών**:\n",
        "Ξεκινήστε με ένα κενό λεξικό που θα ονομάζεται **contact_book**."
      ],
      "metadata": {
        "id": "TLU6RN_gFUup"
      }
    },
    {
      "cell_type": "code",
      "source": [
        "# Δημιουργία κένου λεξικού με την ονομασία contact_book\n",
        "# --code--"
      ],
      "metadata": {
        "id": "5T-NqEdZFVhH"
      },
      "execution_count": null,
      "outputs": []
    },
    {
      "cell_type": "markdown",
      "source": [
        "**Προσθήκη Επαφών**: Συμπληρώστε τον παρακάτω κώδικα έτσι ώστε να εισάγετε τις παρακάτω επαφές σύμφωνα με το παράδειγμα που σας δίνεται. Κάθε επαφή πρέπει να έχει όνομα, τηλέφωνο και email.\n",
        "\n",
        "Name: George, Phone: 111-111-1111, Email: george@example.com\n",
        "\n",
        "Name: Anna,  Phone: 222-222-2222, Email: anna@example.com\n",
        "\n",
        "Name: Nikos, Phone: 333-333-3333, Email: nikos@example.com"
      ],
      "metadata": {
        "id": "RzdYUnXOF5m1"
      }
    },
    {
      "cell_type": "code",
      "source": [
        "# Εισαγωγή 1ης επαφής\n",
        "contact_book[\"George\"] = {\"phone\": \"111-111-1111\", \"email\": \"george@example.com\"}\n",
        "\n",
        "# Εισαγωγή 2ης επαφής\n",
        "# --code--\n",
        "\n",
        "# Εισαγωγή 3ης επαφής\n",
        "# --code--"
      ],
      "metadata": {
        "id": "fXetkp2BF9Kx"
      },
      "execution_count": null,
      "outputs": []
    },
    {
      "cell_type": "markdown",
      "source": [
        "**Εκτύπωση του Βιβλίου Επαφών**:\n",
        "Συμπληρώστε τον παρακάτω κώδικα έτσι ώστε να δημιουργήστε μια συνάρτηση με το όνομα **print_contact_book** η οποία θα εκτυπώνει ολόκληρο το βιβλίο επαφών στην μορφή\n",
        "\n",
        "Name:  Anna Phone:  222-222-2222 Email:  anna@example.com\n",
        "\n",
        "Name:  George Phone:  111-111-1111 Email:  george@example.com\n",
        "\n",
        "Name:  Nikos Phone:  333-333-3333 Email:  nikos@example.com\n",
        "\n",
        "Η συνάρτηση θα δέχεται ως όρισμα εισόδου το βιβλίο επαφών **contact_book**"
      ],
      "metadata": {
        "id": "bDNNjrsCFnPZ"
      }
    },
    {
      "cell_type": "code",
      "source": [
        "def print_contact_book(contact_book):\n",
        "#    --code--\n",
        "\n",
        "print(\"Initial Contact Book:\")\n",
        "# --code--                           # Κλίση της συνάρτησης print_contact_book για εκτύπωση των στοιχείων του βιβλίου επαφών\n"
      ],
      "metadata": {
        "id": "h0iHwp2fFqAT"
      },
      "execution_count": null,
      "outputs": []
    },
    {
      "cell_type": "markdown",
      "source": [
        "**Προσθήκη Νέας Επαφής**:\n",
        "Συμπληρώστε τον παρακάτω κώδικα έτσι ώστε να δημιουργήστε μία συνάρτηση με το όνομα **add_contact** η οποία θα προσθέτει μία επαφή στο contact_book και τυπώνει στην οθόνη σχετικό μήνυμα. Στην συνέχεια καλέστε την συνάρτηση και προσθέστε την παρακάτω επαφή. Η συνάρτηση σας θα δέχεται ως ορίσματα εισόδου τα: **contact_book**, **name**, **phone** και **email**\n",
        "\n",
        "name: Sofia\n",
        "\n",
        "phone: 444-444-4444\n",
        "\n",
        "email: sofia@example.com"
      ],
      "metadata": {
        "id": "vybanwYBGuyx"
      }
    },
    {
      "cell_type": "code",
      "source": [
        "def add_contact # --code--\n",
        "# --code--\n",
        "\n",
        "\n",
        "\n",
        "\n",
        "\n",
        "\n",
        "# --code--                          # κλίση της συνάρτησης για προσθήκη της νέας επαφής\n",
        "\n",
        "# Εκτύπωση του ενημερωμένου βιβλίου επαφών\n",
        "print(\"Βιβλίο Επαφών μετά την προσθήκη της επαφής:\\n\")\n",
        "# --code--                          # κλίση της συνάρτησης print_contact_book για εκτύπωση του βιβλίου επαφων"
      ],
      "metadata": {
        "id": "sPEeKxQtGJyE"
      },
      "execution_count": null,
      "outputs": []
    },
    {
      "cell_type": "markdown",
      "source": [
        "**Ενημέρωση Πληροφοριών Επαφής**:\n",
        "Δημιουργήστε μια συνάρτηση με το όνομα **update_contact** η οποία θα ενημερώνει τον αριθμό τηλεφώνου μιας υπάρχουσας επαφής. Εάν η επαφή δεν υπάρχει στον κατάλογο τότε θα εμφανίζει σχετικό μήνυμα. Η συνάρτηση σας θα δέχεται ως ορίσματα εισόδου τα: **contact_book**, **name** και **phone**. Ενημερώστε το τηλέφωνο της επαφής **George** με το **123-123-1234**."
      ],
      "metadata": {
        "id": "xG_XnZ6vHYSR"
      }
    },
    {
      "cell_type": "code",
      "source": [
        "def update_contact # --code--\n",
        "# --code--                             # Συνθήκη ελέγχου για το εάν η επαφή υπάρχει στο βιβλίο επαφών\n",
        "# --code--                             # Ανανέωση του αριθμου τηλεφώνου της επαφής\n",
        "# --code--                             # Εκτύπωση μηνύματος επιτυχούς αλλαγής του τηλεφώνου της επαφής\n",
        "# --code--                             # Συνθήκη  ελέγχου μη ύπαρξης της επαφής στο βιβλίο επαφών\n",
        "# --code--                             # Εκτύπωση μηνύματος μη ύπαρξης της επαφής στο βιβλίο επαφών\n",
        "\n",
        "# --code--                             # κλίση της συνάρτησης update_contact για ενημέρωση του τηλεφώνου της επαφής\n",
        "# --code--                             # κλίση της συνάρτησης print_contact_book για εκτύπωση του βιβλίου επαφών\n"
      ],
      "metadata": {
        "id": "CcWyfhPmHiz0"
      },
      "execution_count": null,
      "outputs": []
    },
    {
      "cell_type": "markdown",
      "source": [
        "**Αφαίρεση επαφής**: Δημιουργήστε μία συνάρτηση με το όνομα **remove_contact** η οποία αφαιρεί μία επαφή από τον κατάλογο. Στην περιπτωση που η επαφή δεν υπάρχει τότε θα τυπώνει σχετικό μήνυμα.\n",
        "\n",
        "Η συναρτησή σας θα δέχεται ως ορίσματα εισόδου τα: **contact_book** και **name**.\n",
        "\n",
        "Εφαρμόστε την συνάρτηση σας για την αφαίρεση της επαφής **George**"
      ],
      "metadata": {
        "id": "Hq-z-oqDKa5u"
      }
    },
    {
      "cell_type": "code",
      "source": [
        "def remove_contact# --code--\n",
        "# --code--                              # Συνθήκη ελέγχου για το εάν η επαφή υπάρχει στο βιβλίο επαφών\n",
        "# --code--                              # Αφαίρεση της επαφής από το βιβλίο επαφών\n",
        "# --code--                              # Εκτύπωση σχετικού μηνύματος επιτυχούς αφαίρεσης\n",
        "# --code--                              # Συνθήκη ελέγχου μη υπαρξης της προς αφαίρεσης επαφής απο το βιβλίο επαφών\n",
        "# --code--                              # Εκτύπωση σχετικού μηνύματος μη ύπαρξης της επαφής\n",
        "\n",
        "# --code--                              # κλίση της συνάρτησης remove_contact για την αφαίρεση της επαφής\n",
        "# --code--                              # κλίση της συνάρτησης print_contact_book για εκτύπωση του βιβλίου επαφών"
      ],
      "metadata": {
        "id": "v9u0RRpwKrkq"
      },
      "execution_count": null,
      "outputs": []
    },
    {
      "cell_type": "markdown",
      "source": [
        "**Ελεγχος ύπαρξης ονόματος επαφής**: Δημιουργήστε μία συνάρτηση με το όνομα **check_contact** η οποία ελέγχει εάν μία επαφή βρίσκεται στον κατάλογο και τυπώνει στην οθόνη σχετικό μήνυμα.\n",
        "\n",
        "Η συναρτησή σας θα δέχεται ως ορίσματα εισόδου τα: **contact_book** και **name**.\n",
        "\n",
        "Εφαρμόστε την συνάρτηση σας για τον έλεγχο ύπαρξης της επαφής **George**"
      ],
      "metadata": {
        "id": "laKp1IwXK6lv"
      }
    },
    {
      "cell_type": "code",
      "source": [
        "def check_contact# --code\n",
        "# --code--                             # Συνθήκη ελέγχου ύπαρξης της επαφής στο βιβλίο επαφών\n",
        "# --code--                             # Εκτύπωση σχετικού μηνύματος υπαρξης της επαφής στο βιβλίο επαφών\n",
        "# --code--                             # Συνθήκη ελέγχου μη ύπαρξης της επαφής στο βιβλίο επαφών\n",
        "# --code--                             # Εκτύπωση σχετικού μηνύματος υπαρξης της επαφής στο βιβλίο επαφών\n",
        "\n",
        "# --code--                             # κλίση της συνάρτησης check_contact για τον έλεγχο ύπαρξης της επαφής"
      ],
      "metadata": {
        "id": "c7Svkxs8LSNF"
      },
      "execution_count": null,
      "outputs": []
    }
  ]
}